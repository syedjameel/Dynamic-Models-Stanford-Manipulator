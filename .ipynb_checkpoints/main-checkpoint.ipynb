{
 "cells": [
  {
   "cell_type": "markdown",
   "metadata": {
    "pycharm": {
     "name": "#%% md\n"
    }
   },
   "source": [
    "# Dynamics of Non-Linear Robotics Systems\n",
    "## Assignment - 4\n",
    "written by : Jameel Ahmed Syed\n",
    "email : j.syed@innopolis.university"
   ]
  },
  {
   "cell_type": "markdown",
   "metadata": {
    "pycharm": {
     "name": "#%% md\n"
    }
   },
   "source": [
    "# Main Task\n",
    "\n",
    "<hr>\n",
    "\n",
    "```\n",
    "Contents\n",
    "Euler - Lagrange Formulation:\n",
    "0. Import all the Libraries and Initialize variables\n",
    "1. Forward Kinematics for the Centre of Mass of the Joint links\n",
    "    i.e. get the transformation matrices Tc1, Tc2, Tc3, Tc4, Tc5, Tc6\n",
    "2. Function for Jacobian Matrix using Geometrical Method\n",
    "3. Calculate the Jacobians for Linear Velocities\n",
    "4. Calculate the Jaconians for Angular Velocities\n",
    "5. Get the Rotation Matrices from the Forward Kinematics\n",
    "```\n",
    "<hr>"
   ]
  },
  {
   "cell_type": "code",
   "execution_count": 31,
   "metadata": {
    "pycharm": {
     "name": "#%%\n"
    }
   },
   "outputs": [],
   "source": [
    "import numpy as np\n",
    "from numpy import pi, cos, sin\n",
    "from matplotlib.pyplot import *\n",
    "from SimpleTranformations import print_matrix, setup_symbolic\n",
    "from sympy import Matrix, diff, zeros, init_printing, trigsimp, nsimplify, symbols"
   ]
  },
  {
   "cell_type": "code",
   "execution_count": 32,
   "metadata": {
    "pycharm": {
     "name": "#%%\n"
    }
   },
   "outputs": [],
   "source": [
    "t1 = pi/2  # Joint Angle 1\n",
    "t2 = pi/2    # Joint Angle 2\n",
    "t3 = 0      # Dummy variable for just sequence sake\n",
    "t4 = pi/2   # Joint Angle 4\n",
    "t5 = pi/2   # Joint Angle 5\n",
    "t6 = pi/2   # Joint Angle 6\n",
    "\n",
    "d1 = 0      # Dummy variable for just sequence sake\n",
    "d2 = 1      # Link 2 Length\n",
    "d3 = 1      # Prismatic Joint length + the Link 3 Length\n",
    "d4 = 0      # Dummy variable for just sequence sake\n",
    "d5 = 0      # Dummy variable for just sequence sake\n",
    "d6 = 1      # Wrist to the end effector Length\n",
    "\n",
    "setup_symbolic(symbol=True)"
   ]
  },
  {
   "cell_type": "markdown",
   "metadata": {
    "pycharm": {
     "name": "#%% md\n"
    }
   },
   "source": [
    "<hr>\n",
    "\n",
    "## 1. Forward Kinematics to the Centre of Mass of each Joint links\n",
    "    i.e. get the transformation matrices Tc1, Tc2, Tc3, Tc4, Tc5, Tc6"
   ]
  },
  {
   "cell_type": "code",
   "execution_count": 33,
   "metadata": {
    "pycharm": {
     "name": "#%%\n"
    }
   },
   "outputs": [],
   "source": [
    "def forward(joint_params, d2, d6, symbolic):\n",
    "    \"\"\"Forward Kinematics Solution For Stanford Manipulator\n",
    "    with Spherical Wrist in any valid euler_wrist arrangement\n",
    "    :param joint_params: Contains t1, t2, d3, t4, t5, t6 and d3(d3 is not an angle its displacement)\n",
    "    :param d2: Link 2 length\n",
    "    :param d6: Link 6 length\"\"\"\n",
    "    if symbolic is False:\n",
    "        t1, t2, t3, t4, t5, t6 = joint_params\n",
    "        d2 = d2; d6 = d6\n",
    "        from SimpleTranformations import rotz, rotx, tranx, tranz\n",
    "\n",
    "    if symbolic is True:\n",
    "        from sympy.solvers import solve\n",
    "        setup_symbolic(symbolic)\n",
    "        from SimpleTranformations import rotz, rotx, tranx, tranz\n",
    "        from sympy import symbols\n",
    "        t1 = symbols('t1')\n",
    "        t2 = symbols('t2')\n",
    "        t4 = symbols('t4')\n",
    "        t5 = symbols('t5')\n",
    "        t6 = symbols('t6')\n",
    "        d2 = symbols('d2')\n",
    "        d3 = symbols('d3')\n",
    "        d6 = symbols('d6')\n",
    "\n",
    "    #t1, t2, d3, t4, t5, t6 = np.deg2rad(t1), np.deg2rad(t2), d3, np.deg2rad(t4), np.deg2rad(t5), np.deg2rad(t6)\n",
    "\n",
    "    t01 = rotz(t1)                # Rotation around Z axis\n",
    "    t12 = rotx(t2) * tranx(d2)    # Rotation around Z axis and Translation along X axis\n",
    "    t23 = tranz(d3)               # Translation along Z axis\n",
    "    t34 = rotz(t4)                # Rotation around Z axis    #rotz(t4)\n",
    "    t45 = rotx(t5)                # Rotation around X axis    #rotx(t5)\n",
    "    t56 = rotz(t6) * tranz(d6)    # Rotation around Z axis and Translation along Z axis\n",
    "    t36 = t34 * t45 * t56         # Transformation from 3 to 6\n",
    "    t02 = t01 * t12\n",
    "    t03 = t02 * t23\n",
    "    t04 = t03 * t34\n",
    "    t05 = t04 * t45\n",
    "    t06 = t05 * t56               # Transformation from 0 to 6\n",
    "    tc1 = t01\n",
    "    tc2 = t01 * rotx(t2) * tranx(d2/2)\n",
    "    tc3 = t02 * tranz(d3/2)\n",
    "    tc4 = t03 * rotz(t4)\n",
    "    tc5 = t04 * rotx(t5)\n",
    "    tc6 = t05 * rotz(t6) * tranz(d6/2)\n",
    "    p06 = t06[0:3, 3]             # This is the P0 to wrist position using Pipers Method\n",
    "    p0w = p06 - d6 * t06[0:3, 2]\n",
    "    X = t06[0, 3]                 # X position of end effector\n",
    "    Y = t06[1, 3]                 # Y position of end effector\n",
    "    Z = t06[2, 3]                 # Z position of end effector\n",
    "    return tc1, tc2, tc3, tc4, tc5, tc6, p06"
   ]
  },
  {
   "cell_type": "code",
   "execution_count": 34,
   "metadata": {
    "pycharm": {
     "name": "#%%\n"
    }
   },
   "outputs": [
    {
     "name": "stdout",
     "output_type": "stream",
     "text": [
      "TC6 =\n",
      "((-sin(t1)*cos(t2)*cos(t4) - sin(t4)*cos(t1))*cos(t5) + sin(t1)*sin(t2)*sin(t5))*sin(t6) + (-sin(t1)*sin(t4)*cos(t2) + cos(t1)*cos(t4))*cos(t6)\t((-sin(t1)*cos(t2)*cos(t4) - sin(t4)*cos(t1))*cos(t5) + sin(t1)*sin(t2)*sin(t5))*cos(t6) - (-sin(t1)*sin(t4)*cos(t2) + cos(t1)*cos(t4))*sin(t6)\t-(-sin(t1)*cos(t2)*cos(t4) - sin(t4)*cos(t1))*sin(t5) + sin(t1)*sin(t2)*cos(t5)\td2*cos(t1) + d3*sin(t1)*sin(t2) + d6*(-(-sin(t1)*cos(t2)*cos(t4) - sin(t4)*cos(t1))*sin(t5) + sin(t1)*sin(t2)*cos(t5))/2\n",
      "((-sin(t1)*sin(t4) + cos(t1)*cos(t2)*cos(t4))*cos(t5) - sin(t2)*sin(t5)*cos(t1))*sin(t6) + (sin(t1)*cos(t4) + sin(t4)*cos(t1)*cos(t2))*cos(t6) \t((-sin(t1)*sin(t4) + cos(t1)*cos(t2)*cos(t4))*cos(t5) - sin(t2)*sin(t5)*cos(t1))*cos(t6) - (sin(t1)*cos(t4) + sin(t4)*cos(t1)*cos(t2))*sin(t6) \t-(-sin(t1)*sin(t4) + cos(t1)*cos(t2)*cos(t4))*sin(t5) - sin(t2)*cos(t1)*cos(t5)\td2*sin(t1) - d3*sin(t2)*cos(t1) + d6*(-(-sin(t1)*sin(t4) + cos(t1)*cos(t2)*cos(t4))*sin(t5) - sin(t2)*cos(t1)*cos(t5))/2\n",
      "(sin(t2)*cos(t4)*cos(t5) + sin(t5)*cos(t2))*sin(t6) + sin(t2)*sin(t4)*cos(t6)                                                                  \t(sin(t2)*cos(t4)*cos(t5) + sin(t5)*cos(t2))*cos(t6) - sin(t2)*sin(t4)*sin(t6)                                                                  \t-sin(t2)*sin(t5)*cos(t4) + cos(t2)*cos(t5)                                     \td3*cos(t2) + d6*(-sin(t2)*sin(t5)*cos(t4) + cos(t2)*cos(t5))/2                                                          \n",
      "0                                                                                                                                              \t0                                                                                                                                              \t0                                                                              \t1                                                                                                                        \n",
      "\n",
      "TC5 =\n",
      "-sin(t1)*sin(t4)*cos(t2) + cos(t1)*cos(t4)\t(-sin(t1)*cos(t2)*cos(t4) - sin(t4)*cos(t1))*cos(t5) + sin(t1)*sin(t2)*sin(t5)\t-(-sin(t1)*cos(t2)*cos(t4) - sin(t4)*cos(t1))*sin(t5) + sin(t1)*sin(t2)*cos(t5)\td2*cos(t1) + d3*sin(t1)*sin(t2)\n",
      "sin(t1)*cos(t4) + sin(t4)*cos(t1)*cos(t2) \t(-sin(t1)*sin(t4) + cos(t1)*cos(t2)*cos(t4))*cos(t5) - sin(t2)*sin(t5)*cos(t1)\t-(-sin(t1)*sin(t4) + cos(t1)*cos(t2)*cos(t4))*sin(t5) - sin(t2)*cos(t1)*cos(t5)\td2*sin(t1) - d3*sin(t2)*cos(t1)\n",
      "sin(t2)*sin(t4)                           \tsin(t2)*cos(t4)*cos(t5) + sin(t5)*cos(t2)                                     \t-sin(t2)*sin(t5)*cos(t4) + cos(t2)*cos(t5)                                     \td3*cos(t2)                     \n",
      "0                                         \t0                                                                             \t0                                                                              \t1                               \n",
      "\n",
      "TC4 =\n",
      "-sin(t1)*sin(t4)*cos(t2) + cos(t1)*cos(t4)\t-sin(t1)*cos(t2)*cos(t4) - sin(t4)*cos(t1)\tsin(t1)*sin(t2) \td2*cos(t1) + d3*sin(t1)*sin(t2)\n",
      "sin(t1)*cos(t4) + sin(t4)*cos(t1)*cos(t2) \t-sin(t1)*sin(t4) + cos(t1)*cos(t2)*cos(t4)\t-sin(t2)*cos(t1)\td2*sin(t1) - d3*sin(t2)*cos(t1)\n",
      "sin(t2)*sin(t4)                           \tsin(t2)*cos(t4)                           \tcos(t2)         \td3*cos(t2)                     \n",
      "0                                         \t0                                         \t0               \t1                               \n",
      "\n",
      "TC3 =\n",
      "cos(t1)\t-sin(t1)*cos(t2)\tsin(t1)*sin(t2) \td2*cos(t1) + d3*sin(t1)*sin(t2)/2\n",
      "sin(t1)\tcos(t1)*cos(t2) \t-sin(t2)*cos(t1)\td2*sin(t1) - d3*sin(t2)*cos(t1)/2\n",
      "0      \tsin(t2)         \tcos(t2)         \td3*cos(t2)/2                     \n",
      "0      \t0               \t0               \t1                                 \n",
      "\n",
      "TC2 =\n",
      "cos(t1)\t-sin(t1)*cos(t2)\tsin(t1)*sin(t2) \td2*cos(t1)/2\n",
      "sin(t1)\tcos(t1)*cos(t2) \t-sin(t2)*cos(t1)\td2*sin(t1)/2\n",
      "0      \tsin(t2)         \tcos(t2)         \t0           \n",
      "0      \t0               \t0               \t1            \n",
      "\n",
      "TC1 =\n",
      "cos(t1)\t-sin(t1)\t0\t0\n",
      "sin(t1)\tcos(t1) \t0\t0\n",
      "0      \t0       \t1\t0\n",
      "0      \t0       \t0\t1 \n",
      "\n"
     ]
    }
   ],
   "source": [
    "# Forward Kinematics\n",
    "joint_params = [t1, t2, d3, t4, t5, t6]\n",
    "tc1, tc2, tc3, tc4, tc5, tc6, p06 = forward(joint_params, d2, d6, symbolic=True)\n",
    "\n",
    "tc = [tc1, tc2, tc3, tc4, tc5, tc6]\n",
    "\n",
    "print_matrix(tc6, name_matrix=\"TC6\")\n",
    "print_matrix(tc5, name_matrix=\"TC5\")\n",
    "print_matrix(tc4, name_matrix=\"TC4\")\n",
    "print_matrix(tc3, name_matrix=\"TC3\")\n",
    "print_matrix(tc2, name_matrix=\"TC2\")\n",
    "print_matrix(tc1, name_matrix=\"TC1\")\n"
   ]
  },
  {
   "cell_type": "code",
   "execution_count": 35,
   "metadata": {},
   "outputs": [
    {
     "data": {
      "text/latex": [
       "$\\displaystyle \\left[\\begin{matrix}\\cos{\\left(t_{1} \\right)} & - \\sin{\\left(t_{1} \\right)} & 0 & 0\\\\\\sin{\\left(t_{1} \\right)} & \\cos{\\left(t_{1} \\right)} & 0 & 0\\\\0 & 0 & 1 & 0\\\\0 & 0 & 0 & 1\\end{matrix}\\right]$"
      ],
      "text/plain": [
       "⎡cos(t₁)  -sin(t₁)  0  0⎤\n",
       "⎢                       ⎥\n",
       "⎢sin(t₁)  cos(t₁)   0  0⎥\n",
       "⎢                       ⎥\n",
       "⎢   0        0      1  0⎥\n",
       "⎢                       ⎥\n",
       "⎣   0        0      0  1⎦"
      ]
     },
     "execution_count": 35,
     "metadata": {},
     "output_type": "execute_result"
    }
   ],
   "source": [
    "tc1"
   ]
  },
  {
   "cell_type": "code",
   "execution_count": 36,
   "metadata": {},
   "outputs": [
    {
     "data": {
      "text/latex": [
       "$\\displaystyle \\left[\\begin{matrix}\\cos{\\left(t_{1} \\right)} & - \\sin{\\left(t_{1} \\right)} \\cos{\\left(t_{2} \\right)} & \\sin{\\left(t_{1} \\right)} \\sin{\\left(t_{2} \\right)} & \\frac{d_{2} \\cos{\\left(t_{1} \\right)}}{2}\\\\\\sin{\\left(t_{1} \\right)} & \\cos{\\left(t_{1} \\right)} \\cos{\\left(t_{2} \\right)} & - \\sin{\\left(t_{2} \\right)} \\cos{\\left(t_{1} \\right)} & \\frac{d_{2} \\sin{\\left(t_{1} \\right)}}{2}\\\\0 & \\sin{\\left(t_{2} \\right)} & \\cos{\\left(t_{2} \\right)} & 0\\\\0 & 0 & 0 & 1\\end{matrix}\\right]$"
      ],
      "text/plain": [
       "⎡                                             d₂⋅cos(t₁)⎤\n",
       "⎢cos(t₁)  -sin(t₁)⋅cos(t₂)  sin(t₁)⋅sin(t₂)   ──────────⎥\n",
       "⎢                                                 2     ⎥\n",
       "⎢                                                       ⎥\n",
       "⎢                                             d₂⋅sin(t₁)⎥\n",
       "⎢sin(t₁)  cos(t₁)⋅cos(t₂)   -sin(t₂)⋅cos(t₁)  ──────────⎥\n",
       "⎢                                                 2     ⎥\n",
       "⎢                                                       ⎥\n",
       "⎢   0         sin(t₂)           cos(t₂)           0     ⎥\n",
       "⎢                                                       ⎥\n",
       "⎣   0            0                 0              1     ⎦"
      ]
     },
     "execution_count": 36,
     "metadata": {},
     "output_type": "execute_result"
    }
   ],
   "source": [
    "tc2"
   ]
  },
  {
   "cell_type": "code",
   "execution_count": 37,
   "metadata": {},
   "outputs": [
    {
     "data": {
      "text/latex": [
       "$\\displaystyle \\left[\\begin{matrix}\\cos{\\left(t_{1} \\right)} & - \\sin{\\left(t_{1} \\right)} \\cos{\\left(t_{2} \\right)} & \\sin{\\left(t_{1} \\right)} \\sin{\\left(t_{2} \\right)} & d_{2} \\cos{\\left(t_{1} \\right)} + \\frac{d_{3} \\sin{\\left(t_{1} \\right)} \\sin{\\left(t_{2} \\right)}}{2}\\\\\\sin{\\left(t_{1} \\right)} & \\cos{\\left(t_{1} \\right)} \\cos{\\left(t_{2} \\right)} & - \\sin{\\left(t_{2} \\right)} \\cos{\\left(t_{1} \\right)} & d_{2} \\sin{\\left(t_{1} \\right)} - \\frac{d_{3} \\sin{\\left(t_{2} \\right)} \\cos{\\left(t_{1} \\right)}}{2}\\\\0 & \\sin{\\left(t_{2} \\right)} & \\cos{\\left(t_{2} \\right)} & \\frac{d_{3} \\cos{\\left(t_{2} \\right)}}{2}\\\\0 & 0 & 0 & 1\\end{matrix}\\right]$"
      ],
      "text/plain": [
       "⎡                                                          d₃⋅sin(t₁)⋅sin(t₂)⎤\n",
       "⎢cos(t₁)  -sin(t₁)⋅cos(t₂)  sin(t₁)⋅sin(t₂)   d₂⋅cos(t₁) + ──────────────────⎥\n",
       "⎢                                                                  2         ⎥\n",
       "⎢                                                                            ⎥\n",
       "⎢                                                          d₃⋅sin(t₂)⋅cos(t₁)⎥\n",
       "⎢sin(t₁)  cos(t₁)⋅cos(t₂)   -sin(t₂)⋅cos(t₁)  d₂⋅sin(t₁) - ──────────────────⎥\n",
       "⎢                                                                  2         ⎥\n",
       "⎢                                                                            ⎥\n",
       "⎢                                                       d₃⋅cos(t₂)           ⎥\n",
       "⎢   0         sin(t₂)           cos(t₂)                 ──────────           ⎥\n",
       "⎢                                                           2                ⎥\n",
       "⎢                                                                            ⎥\n",
       "⎣   0            0                 0                         1               ⎦"
      ]
     },
     "execution_count": 37,
     "metadata": {},
     "output_type": "execute_result"
    }
   ],
   "source": [
    "tc3"
   ]
  },
  {
   "cell_type": "code",
   "execution_count": 38,
   "metadata": {},
   "outputs": [
    {
     "data": {
      "text/latex": [
       "$\\displaystyle \\left[\\begin{matrix}- \\sin{\\left(t_{1} \\right)} \\sin{\\left(t_{4} \\right)} \\cos{\\left(t_{2} \\right)} + \\cos{\\left(t_{1} \\right)} \\cos{\\left(t_{4} \\right)} & - \\sin{\\left(t_{1} \\right)} \\cos{\\left(t_{2} \\right)} \\cos{\\left(t_{4} \\right)} - \\sin{\\left(t_{4} \\right)} \\cos{\\left(t_{1} \\right)} & \\sin{\\left(t_{1} \\right)} \\sin{\\left(t_{2} \\right)} & d_{2} \\cos{\\left(t_{1} \\right)} + d_{3} \\sin{\\left(t_{1} \\right)} \\sin{\\left(t_{2} \\right)}\\\\\\sin{\\left(t_{1} \\right)} \\cos{\\left(t_{4} \\right)} + \\sin{\\left(t_{4} \\right)} \\cos{\\left(t_{1} \\right)} \\cos{\\left(t_{2} \\right)} & - \\sin{\\left(t_{1} \\right)} \\sin{\\left(t_{4} \\right)} + \\cos{\\left(t_{1} \\right)} \\cos{\\left(t_{2} \\right)} \\cos{\\left(t_{4} \\right)} & - \\sin{\\left(t_{2} \\right)} \\cos{\\left(t_{1} \\right)} & d_{2} \\sin{\\left(t_{1} \\right)} - d_{3} \\sin{\\left(t_{2} \\right)} \\cos{\\left(t_{1} \\right)}\\\\\\sin{\\left(t_{2} \\right)} \\sin{\\left(t_{4} \\right)} & \\sin{\\left(t_{2} \\right)} \\cos{\\left(t_{4} \\right)} & \\cos{\\left(t_{2} \\right)} & d_{3} \\cos{\\left(t_{2} \\right)}\\\\0 & 0 & 0 & 1\\end{matrix}\\right]$"
      ],
      "text/plain": [
       "⎡-sin(t₁)⋅sin(t₄)⋅cos(t₂) + cos(t₁)⋅cos(t₄)  -sin(t₁)⋅cos(t₂)⋅cos(t₄) - sin(t₄)⋅cos(t₁)  sin(t₁)⋅sin(t₂)   d₂⋅cos(t₁) + d₃⋅sin(t₁)⋅sin(t₂)⎤\n",
       "⎢                                                                                                                                         ⎥\n",
       "⎢sin(t₁)⋅cos(t₄) + sin(t₄)⋅cos(t₁)⋅cos(t₂)   -sin(t₁)⋅sin(t₄) + cos(t₁)⋅cos(t₂)⋅cos(t₄)  -sin(t₂)⋅cos(t₁)  d₂⋅sin(t₁) - d₃⋅sin(t₂)⋅cos(t₁)⎥\n",
       "⎢                                                                                                                                         ⎥\n",
       "⎢             sin(t₂)⋅sin(t₄)                             sin(t₂)⋅cos(t₄)                    cos(t₂)                 d₃⋅cos(t₂)           ⎥\n",
       "⎢                                                                                                                                         ⎥\n",
       "⎣                    0                                           0                              0                         1               ⎦"
      ]
     },
     "execution_count": 38,
     "metadata": {},
     "output_type": "execute_result"
    }
   ],
   "source": [
    "tc4"
   ]
  },
  {
   "cell_type": "code",
   "execution_count": 39,
   "metadata": {},
   "outputs": [
    {
     "data": {
      "text/latex": [
       "$\\displaystyle \\left[\\begin{matrix}- \\sin{\\left(t_{1} \\right)} \\sin{\\left(t_{4} \\right)} \\cos{\\left(t_{2} \\right)} + \\cos{\\left(t_{1} \\right)} \\cos{\\left(t_{4} \\right)} & \\left(- \\sin{\\left(t_{1} \\right)} \\cos{\\left(t_{2} \\right)} \\cos{\\left(t_{4} \\right)} - \\sin{\\left(t_{4} \\right)} \\cos{\\left(t_{1} \\right)}\\right) \\cos{\\left(t_{5} \\right)} + \\sin{\\left(t_{1} \\right)} \\sin{\\left(t_{2} \\right)} \\sin{\\left(t_{5} \\right)} & - \\left(- \\sin{\\left(t_{1} \\right)} \\cos{\\left(t_{2} \\right)} \\cos{\\left(t_{4} \\right)} - \\sin{\\left(t_{4} \\right)} \\cos{\\left(t_{1} \\right)}\\right) \\sin{\\left(t_{5} \\right)} + \\sin{\\left(t_{1} \\right)} \\sin{\\left(t_{2} \\right)} \\cos{\\left(t_{5} \\right)} & d_{2} \\cos{\\left(t_{1} \\right)} + d_{3} \\sin{\\left(t_{1} \\right)} \\sin{\\left(t_{2} \\right)}\\\\\\sin{\\left(t_{1} \\right)} \\cos{\\left(t_{4} \\right)} + \\sin{\\left(t_{4} \\right)} \\cos{\\left(t_{1} \\right)} \\cos{\\left(t_{2} \\right)} & \\left(- \\sin{\\left(t_{1} \\right)} \\sin{\\left(t_{4} \\right)} + \\cos{\\left(t_{1} \\right)} \\cos{\\left(t_{2} \\right)} \\cos{\\left(t_{4} \\right)}\\right) \\cos{\\left(t_{5} \\right)} - \\sin{\\left(t_{2} \\right)} \\sin{\\left(t_{5} \\right)} \\cos{\\left(t_{1} \\right)} & - \\left(- \\sin{\\left(t_{1} \\right)} \\sin{\\left(t_{4} \\right)} + \\cos{\\left(t_{1} \\right)} \\cos{\\left(t_{2} \\right)} \\cos{\\left(t_{4} \\right)}\\right) \\sin{\\left(t_{5} \\right)} - \\sin{\\left(t_{2} \\right)} \\cos{\\left(t_{1} \\right)} \\cos{\\left(t_{5} \\right)} & d_{2} \\sin{\\left(t_{1} \\right)} - d_{3} \\sin{\\left(t_{2} \\right)} \\cos{\\left(t_{1} \\right)}\\\\\\sin{\\left(t_{2} \\right)} \\sin{\\left(t_{4} \\right)} & \\sin{\\left(t_{2} \\right)} \\cos{\\left(t_{4} \\right)} \\cos{\\left(t_{5} \\right)} + \\sin{\\left(t_{5} \\right)} \\cos{\\left(t_{2} \\right)} & - \\sin{\\left(t_{2} \\right)} \\sin{\\left(t_{5} \\right)} \\cos{\\left(t_{4} \\right)} + \\cos{\\left(t_{2} \\right)} \\cos{\\left(t_{5} \\right)} & d_{3} \\cos{\\left(t_{2} \\right)}\\\\0 & 0 & 0 & 1\\end{matrix}\\right]$"
      ],
      "text/plain": [
       "⎡-sin(t₁)⋅sin(t₄)⋅cos(t₂) + cos(t₁)⋅cos(t₄)  (-sin(t₁)⋅cos(t₂)⋅cos(t₄) - sin(t₄)⋅cos(t₁))⋅cos(t₅) + sin(t₁)⋅sin(t₂)⋅sin(t₅)  -(-sin(t₁)⋅cos(t₂)⋅cos(t₄) - sin(t₄)⋅cos(t₁))⋅sin(t₅) + sin(t₁)⋅sin(t₂)⋅cos(t₅)  d₂⋅cos(t₁) + d₃⋅sin(t₁)⋅sin(t₂)⎤\n",
       "⎢                                                                                                                                                                                                                                            ⎥\n",
       "⎢sin(t₁)⋅cos(t₄) + sin(t₄)⋅cos(t₁)⋅cos(t₂)   (-sin(t₁)⋅sin(t₄) + cos(t₁)⋅cos(t₂)⋅cos(t₄))⋅cos(t₅) - sin(t₂)⋅sin(t₅)⋅cos(t₁)  -(-sin(t₁)⋅sin(t₄) + cos(t₁)⋅cos(t₂)⋅cos(t₄))⋅sin(t₅) - sin(t₂)⋅cos(t₁)⋅cos(t₅)  d₂⋅sin(t₁) - d₃⋅sin(t₂)⋅cos(t₁)⎥\n",
       "⎢                                                                                                                                                                                                                                            ⎥\n",
       "⎢             sin(t₂)⋅sin(t₄)                                  sin(t₂)⋅cos(t₄)⋅cos(t₅) + sin(t₅)⋅cos(t₂)                                       -sin(t₂)⋅sin(t₅)⋅cos(t₄) + cos(t₂)⋅cos(t₅)                               d₃⋅cos(t₂)           ⎥\n",
       "⎢                                                                                                                                                                                                                                            ⎥\n",
       "⎣                    0                                                             0                                                                                0                                                        1               ⎦"
      ]
     },
     "execution_count": 39,
     "metadata": {},
     "output_type": "execute_result"
    }
   ],
   "source": [
    "tc5"
   ]
  },
  {
   "cell_type": "code",
   "execution_count": null,
   "metadata": {},
   "outputs": [],
   "source": []
  },
  {
   "cell_type": "markdown",
   "metadata": {
    "pycharm": {
     "name": "#%% md\n"
    }
   },
   "source": [
    "<hr>\n",
    "\n",
    "## 2. Function for Jacobian Matrix using Geometrical Method"
   ]
  },
  {
   "cell_type": "code",
   "execution_count": 22,
   "metadata": {
    "pycharm": {
     "name": "#%%\n"
    }
   },
   "outputs": [],
   "source": [
    "def jacobian_geometrical(t01, t02, t03, t04, t05, p06):\n",
    "    \"\"\"Returns the Jacobian Matrix from the Forward kinematics Geometrically\"\"\"\n",
    "    j = ['j1', 'j2', 'j3', 'j4', 'j5', 'j6']\n",
    "\n",
    "    for var in j:\n",
    "        globals()[var] = Matrix([[0], [0], [0], [0], [0], [0]])\n",
    "\n",
    "    z0 = Matrix([[0], [0], [1]])\n",
    "    p0 = Matrix([[0], [0], [0]])\n",
    "    j1 = z0.cross((p06-p0)).row_insert(3, z0)\n",
    "    j2 = t01[0:3, 0].cross((p06-t01[0:3, 3])).row_insert(3, t01[0:3, 0])\n",
    "    j3 = t02[0:3, 2].row_insert(3, Matrix([[0], [0], [0]]))\n",
    "    j4 = t03[0:3, 2].cross((p06-t03[0:3, 3])).row_insert(3, t03[0:3, 2])\n",
    "    j5 = t04[0:3, 0].cross((p06-t04[0:3, 3])).row_insert(3, t04[0:3, 0])\n",
    "    j6 = t05[0:3, 2].cross((p06-t05[0:3, 3])).row_insert(3, t05[0:3, 2])\n",
    "\n",
    "    cols = [j1, j2, j3, j4, j5, j6]\n",
    "\n",
    "    J = Matrix([])\n",
    "    for j in range(len(cols)):\n",
    "        J = J.col_insert(j, cols[j])\n",
    "\n",
    "    return J"
   ]
  },
  {
   "cell_type": "code",
   "execution_count": 23,
   "metadata": {
    "pycharm": {
     "name": "#%%\n"
    }
   },
   "outputs": [],
   "source": [
    "# All of these are Symbols of Joint coordinates\n",
    "t1 = symbols('t1')\n",
    "t2 = symbols('t2')\n",
    "t4 = symbols('t4')\n",
    "t5 = symbols('t5')\n",
    "t6 = symbols('t6')\n",
    "d2 = symbols('d2')\n",
    "d3 = symbols('d3')\n",
    "d6 = symbols('d6')\n",
    "joints_symbols = [t1, t2, d3, t4, t5, t6]\n",
    "init_printing(wrap_line=False, use_unicode=True)"
   ]
  },
  {
   "cell_type": "markdown",
   "metadata": {
    "pycharm": {
     "name": "#%% md\n"
    }
   },
   "source": [
    "<hr>\n",
    "\n",
    "## 3. Calculate the Jacobians for Linear Velocities"
   ]
  },
  {
   "cell_type": "code",
   "execution_count": 24,
   "metadata": {
    "pycharm": {
     "name": "#%%\n"
    }
   },
   "outputs": [],
   "source": [
    "# Calculate the linear velocity jacobians 3*6 matrix\n",
    "def get_linear_velocity_jacobian(tc):\n",
    "    jvs = [[]] * len(tc)\n",
    "    jv_mat = zeros(3, 6)\n",
    "    for j in range(len(tc)):\n",
    "        for i in range(len(joints_symbols)):\n",
    "            for x in range(3):\n",
    "                jv_mat[x, i] = diff(tc[j][x, 3], joints_symbols[i])\n",
    "        jvs[j] = Matrix(jv_mat)\n",
    "        print_matrix(jv_mat, name_matrix=f\"Jv{j+1} Matrix\")\n",
    "    return jvs"
   ]
  },
  {
   "cell_type": "code",
   "execution_count": 25,
   "metadata": {
    "pycharm": {
     "name": "#%%\n"
    }
   },
   "outputs": [
    {
     "name": "stdout",
     "output_type": "stream",
     "text": [
      "Jv1 Matrix =\n",
      "0\t0\t0\t0\t0\t0\n",
      "0\t0\t0\t0\t0\t0\n",
      "0\t0\t0\t0\t0\t0 \n",
      "\n",
      "Jv2 Matrix =\n",
      "-d2*sin(t1)/2\t0\t0\t0\t0\t0\n",
      "d2*cos(t1)/2 \t0\t0\t0\t0\t0\n",
      "0            \t0\t0\t0\t0\t0 \n",
      "\n",
      "Jv3 Matrix =\n",
      "-d2*sin(t1) + d3*sin(t2)*cos(t1)/2\td3*sin(t1)*cos(t2)/2 \tsin(t1)*sin(t2)/2 \t0\t0\t0\n",
      "d2*cos(t1) + d3*sin(t1)*sin(t2)/2 \t-d3*cos(t1)*cos(t2)/2\t-sin(t2)*cos(t1)/2\t0\t0\t0\n",
      "0                                 \t-d3*sin(t2)/2        \tcos(t2)/2         \t0\t0\t0 \n",
      "\n",
      "Jv4 Matrix =\n",
      "-d2*sin(t1) + d3*sin(t2)*cos(t1)\td3*sin(t1)*cos(t2) \tsin(t1)*sin(t2) \t0\t0\t0\n",
      "d2*cos(t1) + d3*sin(t1)*sin(t2) \t-d3*cos(t1)*cos(t2)\t-sin(t2)*cos(t1)\t0\t0\t0\n",
      "0                               \t-d3*sin(t2)        \tcos(t2)         \t0\t0\t0 \n",
      "\n",
      "Jv5 Matrix =\n",
      "-d2*sin(t1) + d3*sin(t2)*cos(t1)\td3*sin(t1)*cos(t2) \tsin(t1)*sin(t2) \t0\t0\t0\n",
      "d2*cos(t1) + d3*sin(t1)*sin(t2) \t-d3*cos(t1)*cos(t2)\t-sin(t2)*cos(t1)\t0\t0\t0\n",
      "0                               \t-d3*sin(t2)        \tcos(t2)         \t0\t0\t0 \n",
      "\n",
      "Jv6 Matrix =\n",
      "-d2*sin(t1) + d3*sin(t2)*cos(t1) + d6*(-(sin(t1)*sin(t4) - cos(t1)*cos(t2)*cos(t4))*sin(t5) + sin(t2)*cos(t1)*cos(t5))/2\td3*sin(t1)*cos(t2) + d6*(-sin(t1)*sin(t2)*sin(t5)*cos(t4) + sin(t1)*cos(t2)*cos(t5))/2\tsin(t1)*sin(t2) \t-d6*(sin(t1)*sin(t4)*cos(t2) - cos(t1)*cos(t4))*sin(t5)/2 \td6*(-(-sin(t1)*cos(t2)*cos(t4) - sin(t4)*cos(t1))*cos(t5) - sin(t1)*sin(t2)*sin(t5))/2\t0\n",
      "d2*cos(t1) + d3*sin(t1)*sin(t2) + d6*(-(-sin(t1)*cos(t2)*cos(t4) - sin(t4)*cos(t1))*sin(t5) + sin(t1)*sin(t2)*cos(t5))/2\t-d3*cos(t1)*cos(t2) + d6*(sin(t2)*sin(t5)*cos(t1)*cos(t4) - cos(t1)*cos(t2)*cos(t5))/2\t-sin(t2)*cos(t1)\t-d6*(-sin(t1)*cos(t4) - sin(t4)*cos(t1)*cos(t2))*sin(t5)/2\td6*(-(-sin(t1)*sin(t4) + cos(t1)*cos(t2)*cos(t4))*cos(t5) + sin(t2)*sin(t5)*cos(t1))/2\t0\n",
      "0                                                                                                                       \t-d3*sin(t2) + d6*(-sin(t2)*cos(t5) - sin(t5)*cos(t2)*cos(t4))/2                       \tcos(t2)         \td6*sin(t2)*sin(t4)*sin(t5)/2                              \td6*(-sin(t2)*cos(t4)*cos(t5) - sin(t5)*cos(t2))/2                                     \t0 \n",
      "\n"
     ]
    }
   ],
   "source": [
    "jv_mats = get_linear_velocity_jacobian([tc1, tc2, tc3, tc4, tc5, tc6])\n",
    "jv1, jv2, jv3, jv4, jv5, jv6 = jv_mats"
   ]
  },
  {
   "cell_type": "code",
   "execution_count": 26,
   "metadata": {
    "pycharm": {
     "name": "#%%\n"
    }
   },
   "outputs": [
    {
     "data": {
      "text/latex": [
       "$\\displaystyle \\left[\\begin{matrix}0 & 0 & 0 & 0 & 0 & 0\\\\0 & 0 & 0 & 0 & 0 & 0\\\\0 & 0 & 0 & 0 & 0 & 0\\end{matrix}\\right]$"
      ],
      "text/plain": [
       "⎡0  0  0  0  0  0⎤\n",
       "⎢                ⎥\n",
       "⎢0  0  0  0  0  0⎥\n",
       "⎢                ⎥\n",
       "⎣0  0  0  0  0  0⎦"
      ]
     },
     "execution_count": 26,
     "metadata": {},
     "output_type": "execute_result"
    }
   ],
   "source": [
    "jv1"
   ]
  },
  {
   "cell_type": "markdown",
   "metadata": {
    "pycharm": {
     "name": "#%% md\n"
    }
   },
   "source": [
    "<hr>\n",
    "\n",
    "## 4. Calculate the Jacobians for Angular Velocities"
   ]
  },
  {
   "cell_type": "code",
   "execution_count": 27,
   "metadata": {
    "pycharm": {
     "name": "#%%\n"
    }
   },
   "outputs": [],
   "source": [
    "# Get angular velocity jacobians 3*6 (it is the last 3 rows of each jacobian)\n",
    "def get_angular_velocity_jacobians(tc):\n",
    "    J = jacobian_geometrical(tc1, tc2, tc3, tc4, tc5, p06)\n",
    "    jw1 = Matrix()\n",
    "    jw1 = jw1.col_insert(0, J[3:, 0])\n",
    "    jw2 = jw1.col_insert(1, J[3:, 1])\n",
    "    jw3 = jw2.col_insert(2, J[3:, 2])\n",
    "    jw4 = jw3.col_insert(3, J[3:, 3])\n",
    "    jw5 = jw4.col_insert(4, J[3:, 4])\n",
    "    jw6 = jw5.col_insert(5, J[3:, 5])\n",
    "    jw1 = jw1.col_insert(1, zeros(3, 5))\n",
    "    jw2 = jw2.col_insert(2, zeros(3, 4))\n",
    "    jw3 = jw3.col_insert(3, zeros(3, 3))\n",
    "    jw4 = jw4.col_insert(4, zeros(3, 2))\n",
    "    jw5 = jw5.col_insert(5, zeros(3, 1))\n",
    "    jws = [jw1, jw2, jw3, jw4, jw5, jw6]\n",
    "    for i in range(len(jws)):\n",
    "        print_matrix(jws[i], name_matrix=f\"Jw{i+1} Matrix\")\n",
    "    return jws"
   ]
  },
  {
   "cell_type": "code",
   "execution_count": 28,
   "metadata": {
    "pycharm": {
     "name": "#%%\n"
    }
   },
   "outputs": [
    {
     "name": "stdout",
     "output_type": "stream",
     "text": [
      "Jw1 Matrix =\n",
      "0\t0\t0\t0\t0\t0\n",
      "0\t0\t0\t0\t0\t0\n",
      "1\t0\t0\t0\t0\t0 \n",
      "\n",
      "Jw2 Matrix =\n",
      "0\tcos(t1)\t0\t0\t0\t0\n",
      "0\tsin(t1)\t0\t0\t0\t0\n",
      "1\t0      \t0\t0\t0\t0 \n",
      "\n",
      "Jw3 Matrix =\n",
      "0\tcos(t1)\t0\t0\t0\t0\n",
      "0\tsin(t1)\t0\t0\t0\t0\n",
      "1\t0      \t0\t0\t0\t0 \n",
      "\n",
      "Jw4 Matrix =\n",
      "0\tcos(t1)\t0\tsin(t1)*sin(t2) \t0\t0\n",
      "0\tsin(t1)\t0\t-sin(t2)*cos(t1)\t0\t0\n",
      "1\t0      \t0\tcos(t2)         \t0\t0 \n",
      "\n",
      "Jw5 Matrix =\n",
      "0\tcos(t1)\t0\tsin(t1)*sin(t2) \t-sin(t1)*sin(t4)*cos(t2) + cos(t1)*cos(t4)\t0\n",
      "0\tsin(t1)\t0\t-sin(t2)*cos(t1)\tsin(t1)*cos(t4) + sin(t4)*cos(t1)*cos(t2) \t0\n",
      "1\t0      \t0\tcos(t2)         \tsin(t2)*sin(t4)                           \t0 \n",
      "\n",
      "Jw6 Matrix =\n",
      "0\tcos(t1)\t0\tsin(t1)*sin(t2) \t-sin(t1)*sin(t4)*cos(t2) + cos(t1)*cos(t4)\t-(-sin(t1)*cos(t2)*cos(t4) - sin(t4)*cos(t1))*sin(t5) + sin(t1)*sin(t2)*cos(t5)\n",
      "0\tsin(t1)\t0\t-sin(t2)*cos(t1)\tsin(t1)*cos(t4) + sin(t4)*cos(t1)*cos(t2) \t-(-sin(t1)*sin(t4) + cos(t1)*cos(t2)*cos(t4))*sin(t5) - sin(t2)*cos(t1)*cos(t5)\n",
      "1\t0      \t0\tcos(t2)         \tsin(t2)*sin(t4)                           \t-sin(t2)*sin(t5)*cos(t4) + cos(t2)*cos(t5)                                      \n",
      "\n"
     ]
    }
   ],
   "source": [
    "jw_mats = get_angular_velocity_jacobians([tc1, tc2, tc3, tc4, tc5, tc6])\n",
    "jw1, jw2, jw3, jw4, jw5, jw6 = jw_mats"
   ]
  },
  {
   "cell_type": "code",
   "execution_count": 29,
   "metadata": {
    "pycharm": {
     "name": "#%%\n"
    }
   },
   "outputs": [
    {
     "data": {
      "text/latex": [
       "$\\displaystyle \\left[\\begin{matrix}0 & 0 & 0 & 0 & 0 & 0\\\\0 & 0 & 0 & 0 & 0 & 0\\\\1 & 0 & 0 & 0 & 0 & 0\\end{matrix}\\right]$"
      ],
      "text/plain": [
       "⎡0  0  0  0  0  0⎤\n",
       "⎢                ⎥\n",
       "⎢0  0  0  0  0  0⎥\n",
       "⎢                ⎥\n",
       "⎣1  0  0  0  0  0⎦"
      ]
     },
     "execution_count": 29,
     "metadata": {},
     "output_type": "execute_result"
    }
   ],
   "source": [
    "jw1"
   ]
  },
  {
   "cell_type": "markdown",
   "metadata": {
    "pycharm": {
     "name": "#%% md\n"
    }
   },
   "source": [
    "<hr>\n",
    "\n",
    "## 5. Get the Rotation Matrices from the Forward Kinematics"
   ]
  },
  {
   "cell_type": "code",
   "execution_count": 30,
   "metadata": {
    "pycharm": {
     "name": "#%%\n"
    }
   },
   "outputs": [
    {
     "name": "stdout",
     "output_type": "stream",
     "text": [
      "R1 Matrix =\n",
      "cos(t1)\t-sin(t1)\t0\n",
      "sin(t1)\tcos(t1) \t0\n",
      "0      \t0       \t1 \n",
      "\n",
      "R2 Matrix =\n",
      "cos(t1)\t-sin(t1)*cos(t2)\tsin(t1)*sin(t2) \n",
      "sin(t1)\tcos(t1)*cos(t2) \t-sin(t2)*cos(t1)\n",
      "0      \tsin(t2)         \tcos(t2)          \n",
      "\n",
      "R3 Matrix =\n",
      "cos(t1)\t-sin(t1)*cos(t2)\tsin(t1)*sin(t2) \n",
      "sin(t1)\tcos(t1)*cos(t2) \t-sin(t2)*cos(t1)\n",
      "0      \tsin(t2)         \tcos(t2)          \n",
      "\n",
      "R4 Matrix =\n",
      "-sin(t1)*sin(t4)*cos(t2) + cos(t1)*cos(t4)\t-sin(t1)*cos(t2)*cos(t4) - sin(t4)*cos(t1)\tsin(t1)*sin(t2) \n",
      "sin(t1)*cos(t4) + sin(t4)*cos(t1)*cos(t2) \t-sin(t1)*sin(t4) + cos(t1)*cos(t2)*cos(t4)\t-sin(t2)*cos(t1)\n",
      "sin(t2)*sin(t4)                           \tsin(t2)*cos(t4)                           \tcos(t2)          \n",
      "\n",
      "R5 Matrix =\n",
      "-sin(t1)*sin(t4)*cos(t2) + cos(t1)*cos(t4)\t(-sin(t1)*cos(t2)*cos(t4) - sin(t4)*cos(t1))*cos(t5) + sin(t1)*sin(t2)*sin(t5)\t-(-sin(t1)*cos(t2)*cos(t4) - sin(t4)*cos(t1))*sin(t5) + sin(t1)*sin(t2)*cos(t5)\n",
      "sin(t1)*cos(t4) + sin(t4)*cos(t1)*cos(t2) \t(-sin(t1)*sin(t4) + cos(t1)*cos(t2)*cos(t4))*cos(t5) - sin(t2)*sin(t5)*cos(t1)\t-(-sin(t1)*sin(t4) + cos(t1)*cos(t2)*cos(t4))*sin(t5) - sin(t2)*cos(t1)*cos(t5)\n",
      "sin(t2)*sin(t4)                           \tsin(t2)*cos(t4)*cos(t5) + sin(t5)*cos(t2)                                     \t-sin(t2)*sin(t5)*cos(t4) + cos(t2)*cos(t5)                                      \n",
      "\n",
      "R6 Matrix =\n",
      "((-sin(t1)*cos(t2)*cos(t4) - sin(t4)*cos(t1))*cos(t5) + sin(t1)*sin(t2)*sin(t5))*sin(t6) + (-sin(t1)*sin(t4)*cos(t2) + cos(t1)*cos(t4))*cos(t6)\t((-sin(t1)*cos(t2)*cos(t4) - sin(t4)*cos(t1))*cos(t5) + sin(t1)*sin(t2)*sin(t5))*cos(t6) - (-sin(t1)*sin(t4)*cos(t2) + cos(t1)*cos(t4))*sin(t6)\t-(-sin(t1)*cos(t2)*cos(t4) - sin(t4)*cos(t1))*sin(t5) + sin(t1)*sin(t2)*cos(t5)\n",
      "((-sin(t1)*sin(t4) + cos(t1)*cos(t2)*cos(t4))*cos(t5) - sin(t2)*sin(t5)*cos(t1))*sin(t6) + (sin(t1)*cos(t4) + sin(t4)*cos(t1)*cos(t2))*cos(t6) \t((-sin(t1)*sin(t4) + cos(t1)*cos(t2)*cos(t4))*cos(t5) - sin(t2)*sin(t5)*cos(t1))*cos(t6) - (sin(t1)*cos(t4) + sin(t4)*cos(t1)*cos(t2))*sin(t6) \t-(-sin(t1)*sin(t4) + cos(t1)*cos(t2)*cos(t4))*sin(t5) - sin(t2)*cos(t1)*cos(t5)\n",
      "(sin(t2)*cos(t4)*cos(t5) + sin(t5)*cos(t2))*sin(t6) + sin(t2)*sin(t4)*cos(t6)                                                                  \t(sin(t2)*cos(t4)*cos(t5) + sin(t5)*cos(t2))*cos(t6) - sin(t2)*sin(t4)*sin(t6)                                                                  \t-sin(t2)*sin(t5)*cos(t4) + cos(t2)*cos(t5)                                      \n",
      "\n"
     ]
    }
   ],
   "source": [
    "# Get the rotation matrices from the forward kinematics\n",
    "R1 = tc1[0:3, 0:3]\n",
    "R2 = tc2[0:3, 0:3]\n",
    "R3 = tc3[0:3, 0:3]\n",
    "R4 = tc4[0:3, 0:3]\n",
    "R5 = tc5[0:3, 0:3]\n",
    "R6 = tc6[0:3, 0:3]\n",
    "R = [R1, R2, R3, R4, R5, R6]\n",
    "for i in range(len(R)):\n",
    "    print_matrix(R[i], name_matrix=f\"R{i+1} Matrix\")"
   ]
  },
  {
   "cell_type": "markdown",
   "metadata": {
    "pycharm": {
     "name": "#%% md\n"
    }
   },
   "source": [
    "<hr>\n",
    "\n",
    "## 6. Initializing the Symbols for Inertia, Mass, Gravity, Velocities"
   ]
  },
  {
   "cell_type": "code",
   "execution_count": 67,
   "metadata": {
    "pycharm": {
     "name": "#%%\n"
    }
   },
   "outputs": [],
   "source": [
    "# Symbols for Inertia Matrix\n",
    "ixx = symbols('ixx')\n",
    "ixy = symbols('ixy')\n",
    "ixz = symbols('ixz')\n",
    "iyx = symbols('iyx')\n",
    "iyy = symbols('iyy')\n",
    "iyz = symbols('iyz')\n",
    "izx = symbols('izx')\n",
    "izy = symbols('izy')\n",
    "izz = symbols('izz')\n",
    "\n",
    "# Symbols for Mass of each link\n",
    "m1 = symbols('m1')\n",
    "m2 = symbols('m2')\n",
    "m3 = symbols('m3')\n",
    "m4 = symbols('m4')\n",
    "m5 = symbols('m5')\n",
    "m6 = symbols('m6')\n",
    "m = [m1, m2, m3, m4, m5, m6]\n",
    "\n",
    "# Velocities of each joints\n",
    "dt1 = symbols('dt1')\n",
    "dt2 = symbols('dt2')\n",
    "dt3 = symbols('dt3')\n",
    "dt4 = symbols('dt4')\n",
    "dt5 = symbols('dt5')\n",
    "dt6 = symbols('dt6')\n",
    "dt = [dt1, dt2, dt3, dt4, dt5, dt6]\n",
    "\n",
    "# Acceleration due to gravity\n",
    "g = symbols('g')\n",
    "g0 = Matrix([[0],[-g],[0]])\n",
    "\n",
    "# Inertia Matrix\n",
    "I = Matrix([[ixx, ixy, ixz],\n",
    "            [iyx, iyy, iyz],\n",
    "            [izx, izy, izz]])"
   ]
  },
  {
   "cell_type": "code",
   "execution_count": 15,
   "metadata": {
    "pycharm": {
     "name": "#%%\n"
    }
   },
   "outputs": [
    {
     "name": "stdout",
     "output_type": "stream",
     "text": [
      "Inertia Matrix =\n",
      "ixx\tixy\tixz\n",
      "iyx\tiyy\tiyz\n",
      "izx\tizy\tizz \n",
      "\n"
     ]
    }
   ],
   "source": [
    "print_matrix(I, name_matrix=\"Inertia Matrix\")"
   ]
  },
  {
   "cell_type": "markdown",
   "metadata": {
    "pycharm": {
     "name": "#%% md\n"
    }
   },
   "source": [
    "<hr>\n",
    "\n",
    "## 7. Calculate Mass Matrix"
   ]
  },
  {
   "cell_type": "code",
   "execution_count": 16,
   "metadata": {
    "pycharm": {
     "name": "#%%\n"
    }
   },
   "outputs": [],
   "source": [
    "# Calculate the Mass Matrix 6*6 Matrix\n",
    "def get_the_mass_matrix():\n",
    "    \"\"\"Calculates the Mass Matrix\"\"\"\n",
    "    M = zeros(6, 6)\n",
    "    m_mats = [[]] * len(tc)\n",
    "    for i in range(len(tc)):\n",
    "        m_mats[i] = m[i]*jv_mats[i].T*jv_mats[i] + jw_mats[i].T*R[i]*I*R[i].T*jw_mats[i]\n",
    "        M += m_mats[i]\n",
    "    return m_mats, M"
   ]
  },
  {
   "cell_type": "code",
   "execution_count": 17,
   "metadata": {
    "pycharm": {
     "name": "#%%\n"
    }
   },
   "outputs": [],
   "source": [
    "m_mats, M = get_the_mass_matrix()\n",
    "M"
   ]
  },
  {
   "cell_type": "markdown",
   "metadata": {
    "pycharm": {
     "name": "#%% md\n"
    }
   },
   "source": [
    "<hr>\n",
    "\n",
    "## 8. Calculate Coriolis Matrix"
   ]
  },
  {
   "cell_type": "code",
   "execution_count": 19,
   "metadata": {
    "pycharm": {
     "name": "#%%\n"
    }
   },
   "outputs": [],
   "source": [
    "def cijk(i, j, k):\n",
    "    \"\"\"Calculates Cijk terms for each i, j, k\"\"\"\n",
    "    return 0.5 *(diff(M[i,j], joints_symbols[k]) + diff(M[i,k], joints_symbols[j]) - diff(M[j,k], joints_symbols[i]))"
   ]
  },
  {
   "cell_type": "code",
   "execution_count": 20,
   "metadata": {
    "pycharm": {
     "name": "#%%\n"
    }
   },
   "outputs": [],
   "source": [
    "# Calculate Coriolis Matrix\n",
    "def get_coriolis_matrix():\n",
    "    \"\"\"Calculates the Coriolis Matrix\"\"\"\n",
    "    C = zeros(6, 6)\n",
    "    for i in range(len(tc)):\n",
    "        for j in range(len(tc)):\n",
    "            for k in range(len(tc)):\n",
    "                C[i,j] += cijk(i, j, k)*dt[k]\n",
    "    return C"
   ]
  },
  {
   "cell_type": "code",
   "execution_count": 21,
   "metadata": {
    "pycharm": {
     "name": "#%%\n"
    }
   },
   "outputs": [],
   "source": [
    "C = get_coriolis_matrix()\n",
    "C"
   ]
  },
  {
   "cell_type": "markdown",
   "metadata": {
    "pycharm": {
     "name": "#%% md\n"
    }
   },
   "source": [
    "<hr>\n",
    "\n",
    "## 9. Calculate Gravity Matrix"
   ]
  },
  {
   "cell_type": "code",
   "execution_count": 68,
   "metadata": {
    "pycharm": {
     "name": "#%%\n"
    }
   },
   "outputs": [],
   "source": [
    "# Calculate Torque due Gravity Matrix\n",
    "def get_gravity_matrix():\n",
    "    G = Matrix([[0],\n",
    "                [0],\n",
    "                [0],\n",
    "                [0],\n",
    "                [0],\n",
    "                [0]])\n",
    "    for i in range(len(tc)):\n",
    "        G[i, 0] = (-jv_mats[0][:,i].T *m[0] -jv_mats[1][:,i].T*m[1] -jv_mats[2][:,i].T*m[2] -jv_mats[3][:,i].T*m[3] -jv_mats[4][:,i].T*m[4] -jv_mats[5][:,i].T*m[5]) * g0\n",
    "        #print_matrix(jv_mats[k][:,i].T * m[k] * g0)\n",
    "    return G"
   ]
  },
  {
   "cell_type": "code",
   "execution_count": 69,
   "metadata": {
    "pycharm": {
     "name": "#%%\n"
    }
   },
   "outputs": [],
   "source": [
    "G = get_gravity_matrix()"
   ]
  },
  {
   "cell_type": "markdown",
   "metadata": {
    "pycharm": {
     "name": "#%% md\n"
    }
   },
   "source": [
    "<hr>\n",
    "\n",
    "## 10. Initializing Random values for all the variables"
   ]
  },
  {
   "cell_type": "code",
   "execution_count": 72,
   "metadata": {
    "pycharm": {
     "name": "#%%\n"
    }
   },
   "outputs": [],
   "source": [
    "t1 = pi/2\n",
    "t2 = pi/2\n",
    "d3 = 1\n",
    "t4 = pi/2\n",
    "t5 = pi/2\n",
    "t6 = pi/2\n",
    "d2 = 1\n",
    "d6 = 1\n",
    "ixx = 0.1; ixy = 0  ; ixz = 0\n",
    "iyx = 0  ; iyy = 0.1; iyz = 0\n",
    "izx = 0  ; izy = 0  ; izz = 0.1\n",
    "m1 = 0.1\n",
    "m2 = 0.1\n",
    "m3 = 0.1\n",
    "m4 = 0.1\n",
    "m5 = 0.1\n",
    "m6 = 0.1\n",
    "\n",
    "dt1 = 0.1\n",
    "dt2 = 0.1\n",
    "dt3 = 0.1\n",
    "dt4 = 0.1\n",
    "dt5 = 0.1\n",
    "dt6 = 0.1\n",
    "dt = Matrix([[dt1], [dt2], [dt3], [dt4], [dt5], [dt6]])\n",
    "\n",
    "ddt1 = 0.1\n",
    "ddt2 = 0.1\n",
    "ddt3 = 0.1\n",
    "ddt4 = 0.1\n",
    "ddt5 = 0.1\n",
    "ddt6 = 0.1\n",
    "ddt = Matrix([[ddt1], [ddt2], [ddt3], [ddt4], [ddt5], [ddt6]])\n",
    "\n",
    "# Acceleration due to gravity\n",
    "g = 9.81"
   ]
  },
  {
   "cell_type": "markdown",
   "metadata": {
    "pycharm": {
     "name": "#%% md\n"
    }
   },
   "source": [
    "<hr>\n",
    "\n",
    "## 11. Mass Matrix"
   ]
  },
  {
   "cell_type": "code",
   "execution_count": 28,
   "metadata": {
    "pycharm": {
     "name": "#%%\n"
    }
   },
   "outputs": [
    {
     "name": "stdout",
     "output_type": "stream",
     "text": [
      "M Matrix =\n",
      "59/40\t0    \t-2/5 \t0    \t11/40\t0   \n",
      "0    \t33/40\t0    \t-1/20\t0    \t1/10\n",
      "-2/5 \t0    \t13/40\t0    \t-1/20\t0   \n",
      "0    \t-1/20\t0    \t13/40\t0    \t0   \n",
      "11/40\t0    \t-1/20\t0    \t9/40 \t0   \n",
      "0    \t1/10 \t0    \t0    \t0    \t1/10 \n",
      "\n"
     ]
    }
   ],
   "source": [
    "M_ = eval(f\"{M}\")\n",
    "M_ = nsimplify(M_, tolerance=1e-10, rational=True)\n",
    "print_matrix(M_, name_matrix=\"M Matrix\")\n",
    "M_"
   ]
  },
  {
   "cell_type": "markdown",
   "metadata": {
    "pycharm": {
     "name": "#%% md\n"
    }
   },
   "source": [
    "#### 11.b Proof that Mass Matrix = Mass Matrix Transpose\n",
    "       i.e. M_ == M_Transpose"
   ]
  },
  {
   "cell_type": "code",
   "execution_count": 29,
   "metadata": {
    "pycharm": {
     "name": "#%%\n"
    }
   },
   "outputs": [
    {
     "name": "stdout",
     "output_type": "stream",
     "text": [
      "M transpose Matrix =\n",
      "59/40\t0    \t-2/5 \t0    \t11/40\t0   \n",
      "0    \t33/40\t0    \t-1/20\t0    \t1/10\n",
      "-2/5 \t0    \t13/40\t0    \t-1/20\t0   \n",
      "0    \t-1/20\t0    \t13/40\t0    \t0   \n",
      "11/40\t0    \t-1/20\t0    \t9/40 \t0   \n",
      "0    \t1/10 \t0    \t0    \t0    \t1/10 \n",
      "\n"
     ]
    }
   ],
   "source": [
    "M_Transpose = M.T\n",
    "M_Transpose = eval(f\"{M_Transpose}\")\n",
    "M_Transpose = nsimplify(M_Transpose, tolerance=1e-10,rational=True)\n",
    "print_matrix(M_Transpose, name_matrix=\"M transpose Matrix\")\n",
    "M_Transpose"
   ]
  },
  {
   "cell_type": "code",
   "execution_count": 30,
   "metadata": {
    "pycharm": {
     "name": "#%%\n"
    }
   },
   "outputs": [
    {
     "data": {
      "text/plain": [
       "True"
      ]
     },
     "execution_count": 30,
     "metadata": {},
     "output_type": "execute_result"
    }
   ],
   "source": [
    "M_ == M_Transpose"
   ]
  },
  {
   "cell_type": "markdown",
   "metadata": {
    "pycharm": {
     "name": "#%% md\n"
    }
   },
   "source": []
  },
  {
   "cell_type": "markdown",
   "metadata": {
    "pycharm": {
     "name": "#%% md\n"
    }
   },
   "source": [
    "#### 11c. Torque due to Mass Matrix\n",
    "        i.e. M_torque = M * ddt  (6x1 Matrix)"
   ]
  },
  {
   "cell_type": "code",
   "execution_count": 31,
   "metadata": {
    "pycharm": {
     "name": "#%%\n"
    }
   },
   "outputs": [
    {
     "name": "stdout",
     "output_type": "stream",
     "text": [
      "M*ddt Matrix =\n",
      "0.135000000000000  \n",
      "0.0875000000000000 \n",
      "-0.0125000000000000\n",
      "0.0275000000000000 \n",
      "0.0450000000000000 \n",
      "0.0200000000000000  \n",
      "\n"
     ]
    }
   ],
   "source": [
    "M_torque = eval(f\"{M_*ddt}\")\n",
    "print_matrix(M_torque, name_matrix=\"M*ddt Matrix\")\n",
    "M_torque"
   ]
  },
  {
   "cell_type": "markdown",
   "metadata": {
    "pycharm": {
     "name": "#%% md\n"
    }
   },
   "source": [
    "<hr>\n",
    "\n",
    "## 12. Coriolis Matrix"
   ]
  },
  {
   "cell_type": "code",
   "execution_count": 32,
   "metadata": {
    "pycharm": {
     "name": "#%%\n"
    }
   },
   "outputs": [],
   "source": [
    "C_ = eval(f\"{C}\")\n",
    "print_matrix(eval(f\"{C_}\"), name_matrix=\"C Matrix\")\n",
    "C_"
   ]
  },
  {
   "cell_type": "markdown",
   "metadata": {
    "pycharm": {
     "name": "#%% md\n"
    }
   },
   "source": [
    "#### 12b. Torque due to Coriolis Matrix\n",
    "    i.e. C_torque = C * dt  (6x1 Matrix)"
   ]
  },
  {
   "cell_type": "code",
   "execution_count": null,
   "metadata": {
    "pycharm": {
     "name": "#%%\n"
    }
   },
   "outputs": [],
   "source": [
    "C_torque = C_ * dt\n",
    "print_matrix(eval(f\"{C_torque}\"), name_matrix=\"C*dt Matrix\")"
   ]
  },
  {
   "cell_type": "markdown",
   "metadata": {
    "pycharm": {
     "name": "#%% md\n"
    }
   },
   "source": [
    "<hr>\n",
    "\n",
    "## 13. Gravity Matrix/Vector"
   ]
  },
  {
   "cell_type": "code",
   "execution_count": 74,
   "metadata": {
    "pycharm": {
     "name": "#%%\n"
    }
   },
   "outputs": [],
   "source": [
    "G_ = eval(f\"{G}\")\n",
    "G_torque = nsimplify(G_, tolerance=1e-10, rational=True)"
   ]
  },
  {
   "cell_type": "code",
   "execution_count": null,
   "metadata": {
    "pycharm": {
     "name": "#%%\n"
    }
   },
   "outputs": [],
   "source": []
  }
 ],
 "metadata": {
  "kernelspec": {
   "display_name": "Python 3 (ipykernel)",
   "language": "python",
   "name": "python3"
  },
  "language_info": {
   "codemirror_mode": {
    "name": "ipython",
    "version": 3
   },
   "file_extension": ".py",
   "mimetype": "text/x-python",
   "name": "python",
   "nbconvert_exporter": "python",
   "pygments_lexer": "ipython3",
   "version": "3.10.4"
  }
 },
 "nbformat": 4,
 "nbformat_minor": 1
}
